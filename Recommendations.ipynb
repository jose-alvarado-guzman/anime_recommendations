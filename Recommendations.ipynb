{
 "cells": [
  {
   "cell_type": "markdown",
   "metadata": {},
   "source": [
    "<h1 align=center>Anime Recommendations</h1>"
   ]
  },
  {
   "cell_type": "markdown",
   "metadata": {},
   "source": [
    "### Repository: https://github.com/jose-alvarado-guzman/anime_recommendations"
   ]
  },
  {
   "cell_type": "markdown",
   "metadata": {},
   "source": [
    "## Loading Python Packages"
   ]
  },
  {
   "cell_type": "code",
   "execution_count": null,
   "metadata": {},
   "outputs": [],
   "source": [
    "from io import BytesIO\n",
    "from zipfile import ZipFile\n",
    "from urllib.request import urlopen\n",
    "from collections import ChainMap\n",
    "from graphdatascience import GraphDataScience\n",
    "import pandas as pd\n",
    "import pathlib\n",
    "from fileload.loadyaml import load_yaml_file\n",
    "from database.neo4jdbms import Neo4jInstance"
   ]
  },
  {
   "cell_type": "markdown",
   "metadata": {},
   "source": [
    "## Data Ingestion"
   ]
  },
  {
   "cell_type": "markdown",
   "metadata": {},
   "source": [
    "### Loading files into Pandas DataFrames"
   ]
  },
  {
   "cell_type": "code",
   "execution_count": null,
   "metadata": {},
   "outputs": [],
   "source": [
    "def read_file_from_url(url:str):\n",
    "    file_format = pathlib.Path(url).suffixes[0]\n",
    "    response = urlopen(url)\n",
    "    # Downloading the file and saving it in memory\n",
    "    if file_format == '.zip':\n",
    "        compressed_file = ZipFile(BytesIO(response.read()))\n",
    "        # Decompressing the file and loading it into a Python Data Frame\n",
    "        file=compressed_file.open(compressed_file.namelist().pop())\n",
    "    elif file_format == '.csv':\n",
    "        file = url\n",
    "    return pd.read_csv(file)"
   ]
  },
  {
   "cell_type": "code",
   "execution_count": null,
   "metadata": {},
   "outputs": [],
   "source": [
    "data_files = {'anime':'anime.zip',\n",
    "              'anime_with_synopsis':'anime_with_synopsis.zip',\n",
    "              'animelist':'animelist.zip',\n",
    "              'watching_status':'watching_status.csv'\n",
    "             }\n",
    "data_frames = dict()\n",
    "s3_bucket = 'https://s3.amazonaws.com/neo4j-ps-ds-bootcamp/data/'"
   ]
  },
  {
   "cell_type": "code",
   "execution_count": null,
   "metadata": {},
   "outputs": [],
   "source": [
    "for key, value in data_files.items():\n",
    "    file = s3_bucket + value\n",
    "    data_frames[key] = read_file_from_url(file)"
   ]
  },
  {
   "cell_type": "code",
   "execution_count": null,
   "metadata": {},
   "outputs": [],
   "source": [
    "data_frames['anime'].info()"
   ]
  },
  {
   "cell_type": "code",
   "execution_count": null,
   "metadata": {},
   "outputs": [],
   "source": [
    "data_frames['anime_with_synopsis'].info()"
   ]
  },
  {
   "cell_type": "code",
   "execution_count": null,
   "metadata": {},
   "outputs": [],
   "source": [
    "data_frames['animelist'].info()"
   ]
  },
  {
   "cell_type": "code",
   "execution_count": null,
   "metadata": {},
   "outputs": [],
   "source": [
    "data_frames['anime_with_synopsis'].info()"
   ]
  },
  {
   "cell_type": "code",
   "execution_count": null,
   "metadata": {},
   "outputs": [],
   "source": [
    "anime = pd.merge(data_frames['anime'],data_frames['anime_with_synopsis'][['MAL_ID','sypnopsis']],\n",
    "                 on='MAL_ID',how='left')\n",
    "anime_ratings = pd.merge(data_frames['animelist'],data_frames['watching_status'],\n",
    "                         left_on='watching_status',right_on='status').drop('status',axis=1)"
   ]
  },
  {
   "cell_type": "code",
   "execution_count": null,
   "metadata": {},
   "outputs": [],
   "source": [
    "anime.columns = [str.lower(str.replace(c,' ','_').replace('-','_')) for c in anime.columns]"
   ]
  },
  {
   "cell_type": "code",
   "execution_count": null,
   "metadata": {},
   "outputs": [],
   "source": [
    "anime.columns"
   ]
  },
  {
   "cell_type": "code",
   "execution_count": null,
   "metadata": {},
   "outputs": [],
   "source": [
    "anime['genres'].value_counts()"
   ]
  },
  {
   "cell_type": "code",
   "execution_count": null,
   "metadata": {},
   "outputs": [],
   "source": [
    "anime['type'].value_counts()"
   ]
  },
  {
   "cell_type": "code",
   "execution_count": null,
   "metadata": {},
   "outputs": [],
   "source": [
    "anime['source'].value_counts()"
   ]
  },
  {
   "cell_type": "markdown",
   "metadata": {},
   "source": [
    "### Loading the DataFrames into Neo4j"
   ]
  },
  {
   "cell_type": "code",
   "execution_count": null,
   "metadata": {},
   "outputs": [],
   "source": [
    "yaml_file = load_yaml_file('ingest.yaml')"
   ]
  },
  {
   "cell_type": "code",
   "execution_count": null,
   "metadata": {},
   "outputs": [],
   "source": [
    "graph = Neo4jInstance(yaml_file['dbms_info']['uri'],yaml_file['dbms_info']['user_name'],\n",
    "                     yaml_file['dbms_info']['password'])"
   ]
  },
  {
   "cell_type": "code",
   "execution_count": null,
   "metadata": {},
   "outputs": [],
   "source": [
    "graph.execute_write_queries(yaml_file['pre_ingest'],yaml_file['dbms_info']['database'])"
   ]
  },
  {
   "cell_type": "code",
   "execution_count": null,
   "metadata": {},
   "outputs": [],
   "source": [
    "%%time\n",
    "graph.execute_write_queries_with_data(yaml_file['queries']['films'],anime,\n",
    "                                     yaml_file['dbms_info']['database'])"
   ]
  },
  {
   "cell_type": "code",
   "execution_count": null,
   "metadata": {},
   "outputs": [],
   "source": [
    "users = pd.DataFrame({'user_id':anime_ratings['user_id'].unique()})"
   ]
  },
  {
   "cell_type": "code",
   "execution_count": null,
   "metadata": {},
   "outputs": [],
   "source": [
    "graph.execute_write_query_with_data(yaml_file['queries']['users'],users,\n",
    "                                    yaml_file['dbms_info']['database'])"
   ]
  },
  {
   "cell_type": "code",
   "execution_count": null,
   "metadata": {},
   "outputs": [],
   "source": [
    "anime_ratings.columns = [str.replace(c,' ','') for c in anime_ratings.columns]"
   ]
  },
  {
   "cell_type": "code",
   "execution_count": null,
   "metadata": {},
   "outputs": [],
   "source": [
    "mappings_list = [{s:str.replace(s,' ','_').upper()} \n",
    "                 for s in anime_ratings['description'].unique()]\n",
    "mappings = dict(ChainMap(*mappings_list))\n",
    "anime_ratings['description'] = anime_ratings['description'].map(mappings)"
   ]
  },
  {
   "cell_type": "code",
   "execution_count": null,
   "metadata": {},
   "outputs": [],
   "source": [
    "anime_ratings.columns"
   ]
  },
  {
   "cell_type": "code",
   "execution_count": null,
   "metadata": {},
   "outputs": [],
   "source": [
    "ratings = { \n",
    "    'currently_watching': anime_ratings[anime_ratings['description']=='CURRENTLY_WATCHING'],\n",
    "    'completed' : anime_ratings[anime_ratings['description']=='COMPLETED'],\n",
    "    'on_hold' : anime_ratings[anime_ratings['description']=='ON_HOLD'],\n",
    "    'dropped' : anime_ratings[anime_ratings['description']=='DROPPED'],\n",
    "    'plan_to_watch' : anime_ratings[anime_ratings['description']=='PLAN_TO_WATCH']\n",
    "}"
   ]
  },
  {
   "cell_type": "code",
   "execution_count": null,
   "metadata": {},
   "outputs": [],
   "source": [
    "for k in ratings.keys():\n",
    "    graph.execute_write_query_with_data(yaml_file['queries'][k],ratings[k],\n",
    "                                       yaml_file['dbms_info']['database'],\n",
    "                                        batch_size=100000)"
   ]
  },
  {
   "cell_type": "markdown",
   "metadata": {},
   "source": [
    "![Data Model](data_model.png)"
   ]
  },
  {
   "cell_type": "markdown",
   "metadata": {},
   "source": [
    "## GDS Pipeline"
   ]
  },
  {
   "cell_type": "code",
   "execution_count": null,
   "metadata": {},
   "outputs": [],
   "source": [
    "gds = GraphDataScience(yaml_file['dbms_info']['uri'],auth=(yaml_file['dbms_info']['user_name'],\n",
    "                     yaml_file['dbms_info']['password']))\n",
    "gds.set_database('anime')"
   ]
  },
  {
   "cell_type": "code",
   "execution_count": null,
   "metadata": {},
   "outputs": [],
   "source": [
    "gds.debug.sysInfo()"
   ]
  },
  {
   "cell_type": "markdown",
   "metadata": {},
   "source": [
    "### GDS Pipelie for user similar films recommendations"
   ]
  },
  {
   "cell_type": "code",
   "execution_count": null,
   "metadata": {},
   "outputs": [],
   "source": [
    "film_projection, film_stats = gds.graph.project(\n",
    "    'film',\n",
    "    ['Film','Studio','Source','Genre','Licensor','Producer'],\n",
    "    ['HAS_STUDIO','HAS_SOURCE','HAS_GENRE','HAS_LICENSOR','HAS_PRODUCER'],\n",
    "    relationshipProperties=['rating']\n",
    ")"
   ]
  },
  {
   "cell_type": "code",
   "execution_count": null,
   "metadata": {},
   "outputs": [],
   "source": [
    "film_stats"
   ]
  },
  {
   "cell_type": "code",
   "execution_count": null,
   "metadata": {},
   "outputs": [],
   "source": [
    "gds.fastRP.mutate(\n",
    "    film_projection,\n",
    "    iterationWeights= [1.0],\n",
    "    embeddingDimension = 1054,\n",
    "    mutateProperty = 'embedding'\n",
    ")"
   ]
  },
  {
   "cell_type": "code",
   "execution_count": null,
   "metadata": {},
   "outputs": [],
   "source": [
    "gds.knn.mutate(\n",
    "    film_projection,\n",
    "    topK = 20,\n",
    "    sampleRate = 1.0,\n",
    "    similarityCutoff = 0.1,\n",
    "    nodeProperties = ['embedding'],\n",
    "    nodeLabels = ['Film'],\n",
    "    mutateProperty = 'similarityScore',\n",
    "    mutateRelationshipType = 'HAS_SIMILAR_FILM'\n",
    ")"
   ]
  },
  {
   "cell_type": "code",
   "execution_count": null,
   "metadata": {},
   "outputs": [],
   "source": [
    "gds.graph.writeNodeProperties(\n",
    "    film_projection,\n",
    "    ['embedding'],\n",
    "    ['Film']\n",
    ")"
   ]
  },
  {
   "cell_type": "code",
   "execution_count": null,
   "metadata": {},
   "outputs": [],
   "source": [
    "gds.graph.writeRelationship(\n",
    "    film_projection,\n",
    "    'HAS_SIMILAR_FILM',\n",
    "    'similarityScore'\n",
    ")"
   ]
  },
  {
   "cell_type": "code",
   "execution_count": null,
   "metadata": {},
   "outputs": [],
   "source": [
    "film_projection.drop()"
   ]
  },
  {
   "cell_type": "markdown",
   "metadata": {},
   "source": [
    "### GDS Pipelie for user similar films recommendations"
   ]
  },
  {
   "cell_type": "code",
   "execution_count": null,
   "metadata": {},
   "outputs": [],
   "source": [
    "user_projection, user_projection_stats = gds.graph.project(\n",
    "    'user_projection',\n",
    "    ['User','Film'],\n",
    "    ['PLAN_TO_WATCH','DROPPED','COMPLETED','CURRENTLY_WATCHING','ON_HOLD'],\n",
    "    relationshipProperties = ['rating']\n",
    ")"
   ]
  },
  {
   "cell_type": "code",
   "execution_count": null,
   "metadata": {},
   "outputs": [],
   "source": [
    "sys_info = gds.debug.sysInfo()\n",
    "sys_info[sys_info['key'].str.contains('heap')]"
   ]
  },
  {
   "cell_type": "code",
   "execution_count": null,
   "metadata": {},
   "outputs": [],
   "source": [
    "gds.fastRP.mutate(\n",
    "    user_projection,\n",
    "    iterationWeights= [1.0],\n",
    "    embeddingDimension = 1054,\n",
    "    mutateProperty = 'embedding',\n",
    "    relationshipWeightProperty = 'rating'\n",
    ")"
   ]
  },
  {
   "cell_type": "code",
   "execution_count": null,
   "metadata": {},
   "outputs": [],
   "source": [
    "gds.knn.mutate(\n",
    "    user_projection,\n",
    "    topK = 10,\n",
    "    sampleRate = 0.6,\n",
    "    similarityCutoff = 0.2,\n",
    "    nodeProperties = ['embedding'],\n",
    "    nodeLabels = ['User'],\n",
    "    mutateProperty = 'similarityScore',\n",
    "    mutateRelationshipType = 'HAS_SIMILAR_USER'\n",
    ")"
   ]
  },
  {
   "cell_type": "code",
   "execution_count": null,
   "metadata": {},
   "outputs": [],
   "source": [
    "gds.graph.writeNodeProperties(\n",
    "    user_projection,\n",
    "    ['embedding'],\n",
    "    ['User']\n",
    ")"
   ]
  },
  {
   "cell_type": "code",
   "execution_count": null,
   "metadata": {},
   "outputs": [],
   "source": [
    "gds.graph.writeRelationship(\n",
    "    user_projection,\n",
    "    'HAS_SIMILAR_USER',\n",
    "    'similarityScore'\n",
    ")"
   ]
  },
  {
   "cell_type": "code",
   "execution_count": null,
   "metadata": {},
   "outputs": [],
   "source": [
    "user_projection.drop()"
   ]
  },
  {
   "cell_type": "markdown",
   "metadata": {},
   "source": [
    "### Making similar films recommendations"
   ]
  },
  {
   "cell_type": "code",
   "execution_count": null,
   "metadata": {},
   "outputs": [],
   "source": [
    "films_recommendations = gds.run_cypher(yaml_file['queries']['similar_films_recommendations'],\n",
    "                                     params={'user_id':0})"
   ]
  },
  {
   "cell_type": "code",
   "execution_count": null,
   "metadata": {},
   "outputs": [],
   "source": [
    "films_recommendations"
   ]
  },
  {
   "cell_type": "markdown",
   "metadata": {},
   "source": [
    "### Making similar users recommendations"
   ]
  },
  {
   "cell_type": "code",
   "execution_count": null,
   "metadata": {},
   "outputs": [],
   "source": [
    "users_recommendations = gds.run_cypher(yaml_file['queries']['similar_users_recommendations'],\n",
    "                                     params={'user_id':0})"
   ]
  },
  {
   "cell_type": "code",
   "execution_count": null,
   "metadata": {},
   "outputs": [],
   "source": [
    "users_recommendations"
   ]
  },
  {
   "cell_type": "code",
   "execution_count": null,
   "metadata": {},
   "outputs": [],
   "source": [
    "graph.close()\n",
    "gds.close()"
   ]
  }
 ],
 "metadata": {
  "kernelspec": {
   "display_name": "Recommendations",
   "language": "python",
   "name": "recommendations"
  },
  "language_info": {
   "codemirror_mode": {
    "name": "ipython",
    "version": 3
   },
   "file_extension": ".py",
   "mimetype": "text/x-python",
   "name": "python",
   "nbconvert_exporter": "python",
   "pygments_lexer": "ipython3",
   "version": "3.9.13"
  }
 },
 "nbformat": 4,
 "nbformat_minor": 4
}
